{
  "cells": [
    {
      "cell_type": "markdown",
      "metadata": {
        "id": "view-in-github",
        "colab_type": "text"
      },
      "source": [
        "<a href=\"https://colab.research.google.com/github/kbghub56/grocery_store_credit_analysis/blob/main/Extract_Params.ipynb\" target=\"_parent\"><img src=\"https://colab.research.google.com/assets/colab-badge.svg\" alt=\"Open In Colab\"/></a>"
      ]
    },
    {
      "cell_type": "code",
      "execution_count": null,
      "metadata": {
        "colab": {
          "base_uri": "https://localhost:8080/"
        },
        "id": "6wezG2Rb5kMn",
        "outputId": "34d2cce4-882e-471c-fc96-80d8ea86cc67"
      },
      "outputs": [
        {
          "output_type": "stream",
          "name": "stdout",
          "text": [
            "Drive already mounted at /content/drive; to attempt to forcibly remount, call drive.mount(\"/content/drive\", force_remount=True).\n"
          ]
        }
      ],
      "source": [
        "import pandas as pd\n",
        "from sklearn.model_selection import StratifiedKFold\n",
        "import xgboost as xgb\n",
        "from sklearn.model_selection import GridSearchCV\n",
        "from sklearn.preprocessing import OneHotEncoder\n",
        "from sklearn.compose import ColumnTransformer\n",
        "from sklearn.impute import SimpleImputer\n",
        "from imblearn.over_sampling import SMOTE\n",
        "from imblearn.pipeline import Pipeline\n",
        "from google.colab import drive\n",
        "import joblib\n",
        "drive.mount('/content/drive') # Needed to access files in drive"
      ]
    },
    {
      "cell_type": "code",
      "execution_count": null,
      "metadata": {
        "id": "pC60H-uAIUqd"
      },
      "outputs": [],
      "source": [
        "## Load data ##\n",
        "data = pd.read_csv(\"/content/drive/My Drive/Colab Notebooks/Credit_Scoring/231019_sampledata_cohort3.csv\")"
      ]
    },
    {
      "cell_type": "code",
      "execution_count": null,
      "metadata": {
        "colab": {
          "base_uri": "https://localhost:8080/"
        },
        "id": "9_gJr9B8SLQA",
        "outputId": "26a81399-5574-48a5-a8cc-d6a8b08cabcc"
      },
      "outputs": [
        {
          "output_type": "execute_result",
          "data": {
            "text/plain": [
              "0    2868\n",
              "1     262\n",
              "Name: y, dtype: int64"
            ]
          },
          "metadata": {},
          "execution_count": 12
        }
      ],
      "source": [
        "## Split data ##\n",
        "\n",
        "# Drop unnecessary columns\n",
        "data = data.drop(columns=['Unnamed: 0', 'person_id'])\n",
        "\n",
        "# Initialize StratifiedKFold\n",
        "skf = StratifiedKFold(n_splits=10, shuffle=True, random_state=42)\n",
        "\n",
        "# Create the stratified folds\n",
        "folds = list(skf.split(data.drop(columns=\"y\"), data[\"y\"]))\n",
        "\n",
        "# Verify the distribution for the first fold\n",
        "train_index, test_index = folds[0]\n",
        "data.iloc[test_index]['y'].value_counts()"
      ]
    },
    {
      "cell_type": "markdown",
      "metadata": {
        "id": "NUOKdXQevkQU"
      },
      "source": []
    },
    {
      "cell_type": "code",
      "execution_count": null,
      "metadata": {
        "id": "0FbKw3m7vhfJ"
      },
      "outputs": [],
      "source": [
        "# Define X and y for training set (using the first 9 folds combined)\n",
        "train_indices = [index for fold in folds[:-1] for index in fold[0]]\n",
        "X_train = data.iloc[train_indices].drop(columns=\"y\")\n",
        "y_train = data.iloc[train_indices]['y']\n",
        "\n",
        "# Identify categorical and numerical columns\n",
        "categorical_cols = X_train.select_dtypes(include=['object']).columns.tolist()\n",
        "numerical_cols = X_train.select_dtypes(exclude=['object']).columns.tolist()\n",
        "\n",
        "# Create a column transformer with one-hot encoding for categorical columns and imputation for numerical columns\n",
        "preprocessor = ColumnTransformer(\n",
        "    transformers=[\n",
        "        ('cat', OneHotEncoder(handle_unknown='ignore', drop='first'), categorical_cols),\n",
        "        ('imputer', SimpleImputer(strategy='mean'), numerical_cols) #dont need to\n",
        "    ],\n",
        "    remainder='passthrough'\n",
        ")\n",
        "\n",
        "# Define model\n",
        "model = xgb.XGBClassifier(objective='binary:logistic', n_jobs=1, eval_metric=\"auc\")  # Limiting parallelism\n",
        "\n",
        "# SMOTE for oversampling\n",
        "smote = SMOTE(sampling_strategy='auto', random_state=42)\n",
        "\n",
        "# Update pipeline to include preprocessing\n",
        "pipeline = Pipeline([\n",
        "    ('preprocessor', preprocessor),\n",
        "    ('smote', smote),\n",
        "    ('model', model)\n",
        "])"
      ]
    },
    {
      "cell_type": "code",
      "execution_count": null,
      "metadata": {
        "colab": {
          "base_uri": "https://localhost:8080/"
        },
        "id": "jjGiVjruKxEv",
        "outputId": "49052c4b-c753-4746-ac52-d678521bb571"
      },
      "outputs": [
        {
          "output_type": "stream",
          "name": "stdout",
          "text": [
            "Fitting 3 folds for each of 1 candidates, totalling 3 fits\n",
            "{'model__colsample_bytree': 0.8, 'model__gamma': 0.1, 'model__learning_rate': 0.2, 'model__max_depth': 8, 'model__min_child_weight': 1, 'model__scale_pos_weight': 1, 'model__subsample': 0.7}\n"
          ]
        }
      ],
      "source": [
        "'''\n",
        "What parameters were considered when extracting hyperparameters\n",
        "# Reduced hyperparameter grid\n",
        "param_grid = {\n",
        "    'model__learning_rate': [0.01, 0.1, 0.2],\n",
        "    'model__max_depth': [4, 6, 8],\n",
        "    'model__min_child_weight': [1, 3, 5],\n",
        "    'model__gamma': [0, 0.1, 0.2],\n",
        "    'model__subsample': [0.7, 0.8, 0.9],\n",
        "    'model__colsample_bytree': [0.6, 0.7, 0.8],\n",
        "    'model__scale_pos_weight': [1, 10, 20]\n",
        "}\n",
        "'''\n",
        "\n",
        "param_grid = {\n",
        "    'model__colsample_bytree': [0.8],\n",
        "    'model__gamma': [0.1],\n",
        "    'model__learning_rate': [0.2],\n",
        "    'model__max_depth': [8],\n",
        "    'model__min_child_weight': [1],\n",
        "    'model__scale_pos_weight': [1],\n",
        "    'model__subsample': [0.7]\n",
        "}\n",
        "# Grid search with cross-validation\n",
        "grid_search = GridSearchCV(pipeline, param_grid=param_grid, scoring='roc_auc', cv=3, n_jobs=-1, verbose=1)\n",
        "\n",
        "# Fit model\n",
        "grid_search.fit(X_train, y_train)\n",
        "\n",
        "# Get best hyperparameters\n",
        "best_params = grid_search.best_params_\n",
        "print(best_params)"
      ]
    },
    {
      "cell_type": "code",
      "source": [
        "joblib.dump(grid_search, '/content/drive/My Drive/Colab Notebooks/Credit_Scoring/quick_grid_search.joblib')"
      ],
      "metadata": {
        "colab": {
          "base_uri": "https://localhost:8080/"
        },
        "id": "GUVPoEAUxTpf",
        "outputId": "0a754194-49cf-44a8-c557-32dc8f5603c3"
      },
      "execution_count": null,
      "outputs": [
        {
          "output_type": "execute_result",
          "data": {
            "text/plain": [
              "['/content/drive/My Drive/Colab Notebooks/Credit_Scoring/quick_grid_search.joblib']"
            ]
          },
          "metadata": {},
          "execution_count": 15
        }
      ]
    }
  ],
  "metadata": {
    "accelerator": "GPU",
    "colab": {
      "machine_shape": "hm",
      "provenance": [],
      "include_colab_link": true
    },
    "kernelspec": {
      "display_name": "Python 3",
      "name": "python3"
    },
    "language_info": {
      "name": "python"
    }
  },
  "nbformat": 4,
  "nbformat_minor": 0
}