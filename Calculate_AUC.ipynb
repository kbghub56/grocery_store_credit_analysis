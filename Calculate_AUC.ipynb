{
  "nbformat": 4,
  "nbformat_minor": 0,
  "metadata": {
    "colab": {
      "provenance": [],
      "authorship_tag": "ABX9TyP4bJcUrOqQKjDJROUfN/7n",
      "include_colab_link": true
    },
    "kernelspec": {
      "name": "python3",
      "display_name": "Python 3"
    },
    "language_info": {
      "name": "python"
    }
  },
  "cells": [
    {
      "cell_type": "markdown",
      "metadata": {
        "id": "view-in-github",
        "colab_type": "text"
      },
      "source": [
        "<a href=\"https://colab.research.google.com/github/kbghub56/grocery_store_credit_analysis/blob/main/Calculate_AUC.ipynb\" target=\"_parent\"><img src=\"https://colab.research.google.com/assets/colab-badge.svg\" alt=\"Open In Colab\"/></a>"
      ]
    },
    {
      "cell_type": "code",
      "execution_count": null,
      "metadata": {
        "colab": {
          "base_uri": "https://localhost:8080/"
        },
        "id": "Htbme3_mzQTj",
        "outputId": "ac282891-f3c3-421a-a6d0-6753d788d82f"
      },
      "outputs": [
        {
          "output_type": "stream",
          "name": "stdout",
          "text": [
            "Drive already mounted at /content/drive; to attempt to forcibly remount, call drive.mount(\"/content/drive\", force_remount=True).\n"
          ]
        }
      ],
      "source": [
        "import pandas as pd\n",
        "from sklearn.metrics import roc_auc_score\n",
        "from sklearn.model_selection import StratifiedKFold\n",
        "from google.colab import drive\n",
        "import joblib\n",
        "drive.mount('/content/drive') # Needed to access files in drive"
      ]
    },
    {
      "cell_type": "code",
      "source": [
        "# Load the grid_search object\n",
        "grid_search = joblib.load('/content/drive/My Drive/Colab Notebooks/Credit_Scoring/quick_grid_search.joblib')\n"
      ],
      "metadata": {
        "id": "y_8KPe-I38CV"
      },
      "execution_count": null,
      "outputs": []
    },
    {
      "cell_type": "code",
      "source": [
        "# Best estimator from the grid search\n",
        "best_pipeline = grid_search.best_estimator_\n",
        "\n",
        "# Load the dataset\n",
        "data = pd.read_csv(\"/content/drive/My Drive/Colab Notebooks/Credit_Scoring/231019_sampledata_cohort3.csv\")\n",
        "\n",
        "# Drop the unnecessary columns\n",
        "data.drop(columns=['Unnamed: 0', 'person_id'], inplace=True)\n"
      ],
      "metadata": {
        "id": "jGn9gKMa4AoV"
      },
      "execution_count": null,
      "outputs": []
    },
    {
      "cell_type": "code",
      "source": [
        "# Define X and y\n",
        "X = data.drop(columns=\"y\")\n",
        "y = data[\"y\"]\n",
        "\n",
        "# Initialize the StratifiedKFold\n",
        "skf = StratifiedKFold(n_splits=10, shuffle=True, random_state=42)\n",
        "folds = list(skf.split(X, y))\n",
        "\n",
        "# Dictionary to store results\n",
        "results = {\n",
        "    'fold': [],\n",
        "    'in_sample_auc': [],\n",
        "    'out_sample_auc': [],\n",
        "    'feature_importances': []\n",
        "}"
      ],
      "metadata": {
        "id": "zBGKPEUvh4Yc"
      },
      "execution_count": null,
      "outputs": []
    },
    {
      "cell_type": "code",
      "source": [
        "# Iterate over the folds\n",
        "for i, (train_index, test_index) in enumerate(folds):\n",
        "    # Split the data\n",
        "    X_train, X_test = X.iloc[train_index], X.iloc[test_index]\n",
        "    y_train, y_test = y.iloc[train_index], y.iloc[test_index]\n",
        "\n",
        "    # Fit the best pipeline\n",
        "    best_pipeline.fit(X_train, y_train)\n",
        "\n",
        "    # Predict probabilities for the training and test sets\n",
        "    y_train_pred = best_pipeline.predict_proba(X_train)[:, 1]\n",
        "    y_test_pred = best_pipeline.predict_proba(X_test)[:, 1]\n",
        "\n",
        "    # Calculate AUC\n",
        "    in_sample_auc = roc_auc_score(y_train, y_train_pred)\n",
        "    out_sample_auc = roc_auc_score(y_test, y_test_pred)\n",
        "\n",
        "    # Extract feature importances from the 'model' step of the pipeline\n",
        "    feature_importances = best_pipeline.named_steps['model'].feature_importances_\n",
        "\n",
        "    # Store results\n",
        "    results['fold'].append(i + 1)\n",
        "    results['in_sample_auc'].append(in_sample_auc)\n",
        "    results['out_sample_auc'].append(out_sample_auc)\n",
        "    results['feature_importances'].append(feature_importances)\n",
        "\n",
        "    # Print results for the current fold\n",
        "    print(f\"Fold {i+1}: In-Sample AUC = {in_sample_auc}, Out-of-Sample AUC = {out_sample_auc}\")\n"
      ],
      "metadata": {
        "colab": {
          "base_uri": "https://localhost:8080/"
        },
        "id": "zOyLPO9Ah8Dq",
        "outputId": "0780f8d3-5862-4e1f-fdc1-db0fbd9c1bc6"
      },
      "execution_count": null,
      "outputs": [
        {
          "output_type": "stream",
          "name": "stderr",
          "text": [
            "/usr/local/lib/python3.10/dist-packages/sklearn/preprocessing/_encoders.py:202: UserWarning: Found unknown categories in columns [6] during transform. These unknown categories will be encoded as all zeros\n",
            "  warnings.warn(\n"
          ]
        },
        {
          "output_type": "stream",
          "name": "stdout",
          "text": [
            "Fold 1: In-Sample AUC = 0.9233086966103675, Out-of-Sample AUC = 0.6698952377910504\n"
          ]
        },
        {
          "output_type": "stream",
          "name": "stderr",
          "text": [
            "/usr/local/lib/python3.10/dist-packages/sklearn/preprocessing/_encoders.py:202: UserWarning: Found unknown categories in columns [6] during transform. These unknown categories will be encoded as all zeros\n",
            "  warnings.warn(\n"
          ]
        },
        {
          "output_type": "stream",
          "name": "stdout",
          "text": [
            "Fold 2: In-Sample AUC = 0.9283538179196457, Out-of-Sample AUC = 0.6735875999446379\n",
            "Fold 3: In-Sample AUC = 0.9295611258116305, Out-of-Sample AUC = 0.6589345981453683\n",
            "Fold 4: In-Sample AUC = 0.9295345212010252, Out-of-Sample AUC = 0.6841559786674902\n",
            "Fold 5: In-Sample AUC = 0.9268532224229106, Out-of-Sample AUC = 0.672909283582328\n",
            "Fold 6: In-Sample AUC = 0.9284647280415617, Out-of-Sample AUC = 0.6620366795623801\n",
            "Fold 7: In-Sample AUC = 0.9278996304191047, Out-of-Sample AUC = 0.6401789779459339\n",
            "Fold 8: In-Sample AUC = 0.9235831943534838, Out-of-Sample AUC = 0.6435591103821587\n",
            "Fold 9: In-Sample AUC = 0.9239123450457669, Out-of-Sample AUC = 0.6497415975951669\n",
            "Fold 10: In-Sample AUC = 0.9248794604117615, Out-of-Sample AUC = 0.6736148645950097\n"
          ]
        }
      ]
    },
    {
      "cell_type": "code",
      "source": [
        "# Convert results dictionary to a DataFrame\n",
        "results_df = pd.DataFrame(results)\n",
        "\n",
        "# Save the results to a CSV file\n",
        "results_df.to_csv(\"/content/drive/My Drive/Colab Notebooks/Credit_Scoring/results.csv\", index=False)\n",
        "\n",
        "# Average feature importances\n",
        "avg_feature_importances = pd.DataFrame(results['feature_importances']).mean().tolist()\n",
        "print(\"Average Feature Importances:\", avg_feature_importances)"
      ],
      "metadata": {
        "colab": {
          "base_uri": "https://localhost:8080/"
        },
        "id": "AuyjpUfklMDA",
        "outputId": "cbe0deea-fd29-4380-c566-4317876cf991"
      },
      "execution_count": null,
      "outputs": [
        {
          "output_type": "stream",
          "name": "stdout",
          "text": [
            "Average Feature Importances: [0.022092502564191818, 0.0, 0.011500829830765724, 0.0034316927194595337, 0.002758628921583295, 5.9059926570625976e-05, 0.0018633443396538496, 0.00497386185452342, 0.0014216606505215168, 0.0032156340312212706, 0.00384765793569386, 0.0013243717839941382, 0.01122719794511795, 0.0, 0.0015487518394365907, 0.0025903922505676746, 0.0009507783688604832, 0.004335375968366861, 0.0, 0.0017420526128262281, 0.0031790193170309067, 0.0005014491034671664, 0.0006019592983648181, 0.00025507149985060096, 0.000667556538246572, 0.0002830935991369188, 0.0024658716283738613, 0.000745109748095274, 0.004716106690466404, 0.0004175876674707979, 0.0012376864906400442, 0.01592564955353737, 0.07649186998605728, 0.018315443769097328, 0.0050264811143279076, 0.009072807617485523, 0.007162280380725861, 0.007765217684209347, 0.008505018427968025, 0.0019234387436881661, 0.007042825222015381, 0.02698875591158867, 9.624061931390315e-05, 0.0019370332593098283, 0.016362525522708893, 0.026334088295698166, 0.01654208078980446, 0.04173652082681656, 0.0108164818957448, 0.021108165383338928, 0.017353113740682602, 0.04526572674512863, 0.00026059034280478954, 0.003758209990337491, 0.017963914200663567, 0.009947087615728378, 0.020176490768790245, 0.019542885944247246, 0.036624956876039505, 0.008843278512358665, 0.005558505654335022, 0.002415691502392292, 0.00924794189631939, 0.00443072896450758, 0.0038881548680365086, 0.0025781833101063967, 0.002833158476278186, 0.0019565741531550884, 0.0024162542540580034, 0.0025659287348389626, 0.002362912055104971, 0.002040253020823002, 0.0025192792527377605, 0.0024474146775901318, 0.00417293468490243, 0.002787533449009061, 0.0052086771465837955, 0.003866709303110838, 0.003863894147798419, 0.0, 0.0005041223485022783, 0.0011790909338742495, 0.0034950035624206066, 0.0035659961868077517, 0.0028366227634251118, 0.0032401750795543194, 0.003253328148275614, 0.004016381688416004, 0.002133417408913374, 0.0018573980778455734, 0.001737533719278872, 0.0034065295476466417, 0.0031266578007489443, 0.002824158873409033, 0.0032885062973946333, 0.0024992565158754587, 0.0026698352303355932, 0.0026106114964932203, 0.002456835936754942, 0.002671503461897373, 0.0034740015398710966, 0.0027077696286141872, 0.0031895071733742952, 0.0028782908339053392, 0.0028093561995774508, 0.0038366341032087803, 0.002111677546054125, 0.003458684775978327, 0.0017048288136720657, 0.0012241678778082132, 0.0030206560622900724, 0.002562298672273755, 0.003145028604194522, 0.004428269807249308, 0.003005157457664609, 0.00289919157512486, 0.003276855917647481, 0.0028343673329800367, 0.00158511265181005, 0.0012666950933635235, 0.0024477962870150805, 0.0029010248836129904, 0.0030728797428309917, 0.004421570338308811, 0.0031076751183718443, 0.0034960568882524967, 0.0013398115988820791, 0.0010475153103470802, 0.003037697169929743, 0.002704860409721732, 0.003652465296909213, 0.0042904154397547245, 0.003170651150867343, 0.0038246766198426485, 0.0032209628261625767, 0.003582300618290901, 0.0028083748184144497, 0.0033579200971871614, 0.004616422578692436, 0.0010131599847227335, 0.003571654437109828, 0.00225608772598207, 0.002273299265652895, 0.002276691375300288, 0.0, 0.0, 0.0003911770763806999, 0.00034926843363791704, 0.0008262501796707511, 0.0026488571893423796, 0.003017216920852661, 0.0026460490189492702, 0.0010514094028621912, 0.0023260205052793026, 0.0021846380550414324, 0.0, 0.0, 3.464538531261496e-05, 0.0, 0.00017000312800519168, 0.0014664620393887162, 0.00036731723230332136, 0.0, 0.0009427032200619578, 0.00589554151520133, 0.004410335794091225, 0.02077755704522133, 0.03609548881649971, 0.0019532139413058758, 0.003747945185750723, 0.007504415698349476, 0.0024008117616176605, 0.013644332997500896, 0.020900798961520195, 0.00922380480915308, 0.001592343091033399, 0.001131721306592226, 0.0060117351822555065, 0.0024493531867240867, 0.0017093214959863366, 0.0037623737395430603]\n"
          ]
        }
      ]
    }
  ]
}